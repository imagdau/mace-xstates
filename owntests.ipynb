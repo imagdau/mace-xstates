{
 "cells": [
  {
   "cell_type": "code",
   "execution_count": null,
   "id": "29acf130",
   "metadata": {},
   "outputs": [],
   "source": [
    "\n",
    "\n"
   ]
  },
  {
   "cell_type": "code",
   "execution_count": 4,
   "id": "da997190",
   "metadata": {},
   "outputs": [
    {
     "ename": "AttributeError",
     "evalue": "module 'mace.modules' has no attribute 'XstatesMACE'",
     "output_type": "error",
     "traceback": [
      "\u001b[31m---------------------------------------------------------------------------\u001b[39m",
      "\u001b[31mAttributeError\u001b[39m                            Traceback (most recent call last)",
      "\u001b[36mCell\u001b[39m\u001b[36m \u001b[39m\u001b[32mIn[4]\u001b[39m\u001b[32m, line 48\u001b[39m\n\u001b[32m     24\u001b[39m z_table = tools.AtomicNumberTable([atomic_numbers[symbol] \u001b[38;5;28;01mfor\u001b[39;00m symbol \u001b[38;5;129;01min\u001b[39;00m E0s.keys()])\n\u001b[32m     26\u001b[39m default_model_config = \u001b[38;5;28mdict\u001b[39m(\n\u001b[32m     27\u001b[39m         num_elements=\u001b[32m3\u001b[39m,  \u001b[38;5;66;03m# number of chemical elements\u001b[39;00m\n\u001b[32m     28\u001b[39m         atomic_energies=\u001b[38;5;28mlist\u001b[39m(E0s.values()),  \u001b[38;5;66;03m# atomic energies used for normalisation\u001b[39;00m\n\u001b[32m   (...)\u001b[39m\u001b[32m     45\u001b[39m         gate=torch.nn.functional.silu,  \u001b[38;5;66;03m# nonlinearity used in last layer readout MLP\u001b[39;00m\n\u001b[32m     46\u001b[39m     )\n\u001b[32m---> \u001b[39m\u001b[32m48\u001b[39m model = \u001b[43mmodules\u001b[49m\u001b[43m.\u001b[49m\u001b[43mXstatesMACE\u001b[49m(**default_model_config)\n\u001b[32m     50\u001b[39m configs = [data.config_from_atoms(atoms) \u001b[38;5;28;01mfor\u001b[39;00m atoms \u001b[38;5;129;01min\u001b[39;00m db]\n\u001b[32m     52\u001b[39m \u001b[38;5;66;03m# we handle configurations using the AtomicData class\u001b[39;00m\n",
      "\u001b[31mAttributeError\u001b[39m: module 'mace.modules' has no attribute 'XstatesMACE'"
     ]
    }
   ],
   "source": [
    "import numpy as np\n",
    "import torch\n",
    "import torch.nn.functional\n",
    "from e3nn import o3\n",
    "from matplotlib import pyplot as plt\n",
    "import ase.io\n",
    "from ase.visualize import view\n",
    "from scipy.spatial.transform import Rotation\n",
    "import warnings\n",
    "warnings.filterwarnings(\"ignore\")\n",
    "from ase.io import read, write\n",
    "from matplotlib import pyplot as plt\n",
    "import numpy as np\n",
    "from aseMolec import extAtoms as ea\n",
    "from ase.data import atomic_numbers\n",
    "from mace import data, modules, tools\n",
    "from mace.tools import torch_geometric\n",
    "torch.set_default_dtype(torch.float64)\n",
    "\n",
    "\n",
    "db = read('../data/DMABN_combined.xyz', ':')\n",
    "E0s = ea.get_E0(read('../data/E0s_S0.xyz', ':'), tag='0')\n",
    "db = read('../data/DMABN_combined_converted_S0.xyz', ':')\n",
    "z_table = tools.AtomicNumberTable([atomic_numbers[symbol] for symbol in E0s.keys()])\n",
    "\n",
    "default_model_config = dict(\n",
    "        num_elements=3,  # number of chemical elements\n",
    "        atomic_energies=list(E0s.values()),  # atomic energies used for normalisation\n",
    "        avg_num_neighbors=8,  # avg number of neighbours of the atoms, used for internal normalisation of messages\n",
    "        atomic_numbers=z_table.zs,  # atomic numbers, used to specify chemical element embeddings of the model\n",
    "        r_max=6,  # cutoff\n",
    "        num_bessel=8,  # number of radial features\n",
    "        num_polynomial_cutoff=6,  # smoothness of the radial cutoff\n",
    "        max_ell=2,  # expansion order of spherical harmonic adge attributes\n",
    "        num_interactions=2,  # number of layers, typically 2\n",
    "        interaction_cls_first=modules.interaction_classes[\n",
    "            \"RealAgnosticResidualInteractionBlock\"\n",
    "        ],  # interation block of first layer\n",
    "        interaction_cls=modules.interaction_classes[\n",
    "            \"RealAgnosticResidualInteractionBlock\"\n",
    "        ],  # interaction block of subsequent layers\n",
    "        hidden_irreps=o3.Irreps(\"8x0e + 8x1o\"),  # 8: number of embedding channels, 0e, 1o is specifying which equivariant messages to use. Here up to L_max=1\n",
    "        correlation=3,  # correlation order of the messages (body order - 1)\n",
    "        MLP_irreps=o3.Irreps(\"16x0e\"),  # number of hidden dimensions of last layer readout MLP\n",
    "        gate=torch.nn.functional.silu,  # nonlinearity used in last layer readout MLP\n",
    "    )\n",
    "\n",
    "model = modules.XstatesMACE(**default_model_config)\n",
    "\n",
    "configs = [data.config_from_atoms(atoms) for atoms in db]\n",
    "\n",
    "# we handle configurations using the AtomicData class\n",
    "data_loader = torch_geometric.dataloader.DataLoader(\n",
    "    dataset=[\n",
    "        data.AtomicData.from_config(config, z_table=z_table, cutoff=6.0)\n",
    "        for config in configs\n",
    "    ],\n",
    "    batch_size=3,\n",
    "    shuffle=False,\n",
    "    drop_last=False\n",
    ")\n",
    "\n",
    "model(list(data_loader)[0])"
   ]
  }
 ],
 "metadata": {
  "kernelspec": {
   "display_name": "mace-xstates",
   "language": "python",
   "name": "python3"
  },
  "language_info": {
   "codemirror_mode": {
    "name": "ipython",
    "version": 3
   },
   "file_extension": ".py",
   "mimetype": "text/x-python",
   "name": "python",
   "nbconvert_exporter": "python",
   "pygments_lexer": "ipython3",
   "version": "3.12.9"
  }
 },
 "nbformat": 4,
 "nbformat_minor": 5
}
